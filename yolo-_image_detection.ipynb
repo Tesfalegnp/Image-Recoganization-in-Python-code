{
 "cells": [
  {
   "cell_type": "markdown",
   "metadata": {},
   "source": [
    "\n",
    "<div class = \"alert alert-warning\"> \n",
    "    <center><img src=\"me.jpg\" width=\"100px\" height=\"100px\"></center>\n",
    "    <h2 align=\"center\"> <strong>Title </strong> Image Detection with YOLO library</h2> <br><hr>\n",
    "        <h3 align=\"center\"> <strong>Name:</strong> Tesfalegn Petros</h3> \n",
    "        <p align=\"center\">iCog Labs Internship Training Task</p>\n",
    "        <div align=\"right\">\n",
    "           <h6 align=\"right\"> <strong>Submitted to:</strong> Mr. Eyobed</h6>\n",
    "           <h6 align=\"right\"> <strong>Submission Date:</strong> Mar 18, 2025</h6>\n",
    "        </div>\n",
    "\n",
    "</div>\n"
   ]
  },
  {
   "cell_type": "markdown",
   "metadata": {},
   "source": [
    "## Step 1: Load YOLO Model\n",
    "#### YOLOv8 is provided by Ultralytics. You can use it for object detection and classification."
   ]
  },
  {
   "cell_type": "code",
   "execution_count": 1,
   "metadata": {},
   "outputs": [],
   "source": [
    "from ultralytics import YOLO\n",
    "import cv2\n",
    "import matplotlib.pyplot as plt"
   ]
  }
 ],
 "metadata": {
  "kernelspec": {
   "display_name": "Python 3",
   "language": "python",
   "name": "python3"
  },
  "language_info": {
   "codemirror_mode": {
    "name": "ipython",
    "version": 3
   },
   "file_extension": ".py",
   "mimetype": "text/x-python",
   "name": "python",
   "nbconvert_exporter": "python",
   "pygments_lexer": "ipython3",
   "version": "3.13.2"
  }
 },
 "nbformat": 4,
 "nbformat_minor": 2
}
